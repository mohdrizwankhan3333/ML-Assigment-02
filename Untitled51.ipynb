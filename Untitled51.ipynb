{
 "cells": [
  {
   "cell_type": "code",
   "execution_count": null,
   "id": "4f0e9d1d-fb85-4d24-9db0-a7b8e5b007c0",
   "metadata": {},
   "outputs": [],
   "source": [
    " Q1. What is Bayes' theorem?\n",
    "Bayes' theorem describes the probability of an event based on prior knowledge of related events' probabilities.\n",
    "\n",
    " Q2. What is the formula for Bayes' theorem?\n",
    "Bayes' theorem formula is \\( P(A|B) = \\frac{P(B|A) \\cdot P(A)}{P(B)} \\).\n",
    "\n",
    " Q3. How is Bayes' theorem used in practice?\n",
    "Bayes' theorem is used in medical diagnosis, spam filtering, and machine learning to update probabilities based on new evidence.\n",
    "\n",
    " Q4. What is the relationship between Bayes' theorem and conditional probability?\n",
    "Bayes' theorem is a mathematical formula that calculates conditional probability, the likelihood of an event given the occurrence of another event.\n",
    "\n",
    " Q5. How do you choose which type of Naive Bayes classifier to use for any given problem?\n",
    "Choose based on data type: Gaussian for continuous, Multinomial for discrete counts, and Bernoulli for binary/Boolean features.\n",
    "\n",
    " Q6. Naive Bayes Classification Assignment\n",
    "1. Class A:\n",
    "   - \\(P(X1=3|A) = \\frac{4}{3+3+4} = \\frac{4}{10} = 0.4\\)\n",
    "   - \\(P(X2=4|A) = \\frac{3}{4+3+3+3} = \\frac{3}{13} \\approx 0.231\\)\n",
    "   - \\(P(A) = 0.5\\)\n",
    "   - \\(P(X1=3 \\cap X2=4|A) = 0.4 \\times 0.231 \\approx 0.0924\\)\n",
    "\n",
    "2. Class B:\n",
    "   - \\(P(X1=3|B) = \\frac{1}{2+2+1} = \\frac{1}{5} = 0.2\\)\n",
    "   - \\(P(X2=4|B) = \\frac{3}{2+2+2+3} = \\frac{3}{9} = 0.333\\)\n",
    "   - \\(P(B) = 0.5\\)\n",
    "   - \\(P(X1=3 \\cap X2=4|B) = 0.2 \\times 0.333 \\approx 0.0666\\)\n",
    "\n",
    "3. Comparing Probabilities:\n",
    "   - Class A: \\(0.0924 \\times 0.5 = 0.0462\\)\n",
    "   - Class B: \\(0.0666 \\times 0.5 = 0.0333\\)\n",
    "\n",
    "4. Prediction: \n",
    "   - The new instance belongs to Class A, as \\(0.0462 > 0.0333\\)."
   ]
  }
 ],
 "metadata": {
  "kernelspec": {
   "display_name": "Python 3 (ipykernel)",
   "language": "python",
   "name": "python3"
  },
  "language_info": {
   "codemirror_mode": {
    "name": "ipython",
    "version": 3
   },
   "file_extension": ".py",
   "mimetype": "text/x-python",
   "name": "python",
   "nbconvert_exporter": "python",
   "pygments_lexer": "ipython3",
   "version": "3.10.8"
  }
 },
 "nbformat": 4,
 "nbformat_minor": 5
}
